{
 "cells": [
  {
   "cell_type": "markdown",
   "metadata": {},
   "source": [
    "# データ配列について\n",
    "## データ配列とは\n",
    "データ配列とはデータをまとめて扱う\"かたまり\"のこと。\n",
    "Pythonには以下の3つが用意されています。\n",
    "* tuple\n",
    "    ex) ( a , b )\n",
    "* list\n",
    "    ex) [ a , b ]\n",
    "* dictionary（辞書）\n",
    "    ex) { i_1 : a_1, i_2 : a_2}\n",
    "\n",
    "ぞれぞれ個別のデータ型を持っています。"
   ]
  },
  {
   "cell_type": "markdown",
   "metadata": {},
   "source": [
    "## tuple について\n",
    "タプル(tuple)はPythonデータ配列の基本になるものです。\n",
    "作り方は以下のような感じ。"
   ]
  },
  {
   "cell_type": "code",
   "execution_count": null,
   "metadata": {},
   "outputs": [],
   "source": [
    "tuple_1 = (1 , 2)\n",
    "tuple_2 = (\"Hello\" , \"World\")"
   ]
  },
  {
   "cell_type": "markdown",
   "metadata": {},
   "source": [
    "ただし、こんな横着な書き方でも作れます。"
   ]
  },
  {
   "cell_type": "code",
   "execution_count": null,
   "metadata": {},
   "outputs": [],
   "source": [
    "tuple_3 = 3,\"tuple\""
   ]
  },
  {
   "cell_type": "markdown",
   "metadata": {},
   "source": [
    "カッコはいらんのかい！って思った方、そうです。カッコはおまけです。\n",
    "\n",
    "タプルを作るのはカッコではなく、カンマ\",\"の方なのです。\n",
    "\n",
    "作ったタプルを見てみましょう。"
   ]
  },
  {
   "cell_type": "code",
   "execution_count": null,
   "metadata": {},
   "outputs": [],
   "source": [
    "print(tuple_1, tuple_2, tuple_3)\n",
    "\n",
    "print(type(tuple_1))\n",
    "print(type(tuple_2))\n",
    "print(type(tuple_3))"
   ]
  },
  {
   "cell_type": "markdown",
   "metadata": {},
   "source": [
    "はい、それぞれちゃんと出来てますね。\n",
    "\n",
    "### tuple は \" iterable \" かつ  \" imutable \" なオブジェクト\n",
    "\n",
    "タプルの特徴として イテラブル（iterable）かつイミュータブル（imutable）なオブジェクトである、なんて言い方をされることがあります。\n",
    "\n",
    "エラーメッセージでも出てくる用語なので、ここで覚えておきましょう。\n",
    "\n",
    "イテラブルとは、順番に中身を取り出すことができるオブジェクトである、ということです。\n",
    "イテラブルなオブジェクトには[]の中に適当なインデックスを入れてアクセスすることが出来ます。\n",
    "\n",
    "  ※インデックスは0から始まる整数値（int型）です。"
   ]
  },
  {
   "cell_type": "code",
   "execution_count": null,
   "metadata": {},
   "outputs": [],
   "source": [
    "a_1 = tuple_1[0]\n",
    "a_2 = tuple_1[1]\n",
    "a_3 = tuple_2[0]\n",
    "a_4 = tuple_2[1]\n",
    "print(a_1)\n",
    "print(a_2)\n",
    "print(a_3)\n",
    "print(a_4)"
   ]
  },
  {
   "cell_type": "markdown",
   "metadata": {},
   "source": [
    "イテラブルなオブジェクトはfor文のinのなか入れて順番に値を取り出すことが出来ます。\n",
    "\n",
    "\n",
    "\n",
    "イミュータブルとは内容の変更が出来ないオブジェクト、ということです。\n",
    "\n",
    "例えば、tuple_1 の一番目の内容を変更しようとして以下のようなコードを打ったとします。"
   ]
  },
  {
   "cell_type": "code",
   "execution_count": null,
   "metadata": {},
   "outputs": [],
   "source": [
    "tuple_1[0] = 5"
   ]
  },
  {
   "cell_type": "markdown",
   "metadata": {},
   "source": [
    "これはエラーになってしまいます。\n",
    "\n",
    "タプルのようなイミュータブルなオブジェクトは一度作ってしまうと内容の変更や追加は出来ません。\n",
    "その制約があるために高速にアクセスできるデータ配列となっています。"
   ]
  },
  {
   "cell_type": "markdown",
   "metadata": {},
   "source": [
    "## list について\n",
    "リストはPythonのデータ形式の中でも最もよく使うものです。しっかりと覚えてください。\n",
    "\n",
    "作り方はこんな感じ。"
   ]
  },
  {
   "cell_type": "code",
   "execution_count": null,
   "metadata": {},
   "outputs": [],
   "source": [
    "list_1 = [0,1,4,9,16]\n",
    "list_2 = list(tuple_2)\n",
    "print(list_1)\n",
    "print(list_2)\n",
    "print(tuple_2)"
   ]
  },
  {
   "cell_type": "markdown",
   "metadata": {},
   "source": [
    "[]やlist()を使ってタプルからリストを作ることが出来ます。\n",
    "ただ、タプルはイミュータブルなオブジェクトなので元のタプルは変更されてはいません。"
   ]
  },
  {
   "cell_type": "markdown",
   "metadata": {},
   "source": [
    "### list は \" iterable \" かつ \" mutable \"\n",
    "\n",
    "リストとタプルの共通点は両者ともイテラブルなことです。リストもタプルと同じようにインデックスを使って内容にアクセスできます。"
   ]
  },
  {
   "cell_type": "code",
   "execution_count": null,
   "metadata": {},
   "outputs": [],
   "source": [
    "b_1 = list_1[3]\n",
    "print(b_1)"
   ]
  },
  {
   "cell_type": "markdown",
   "metadata": {},
   "source": [
    "相違点はリストはミュータブルなことです。\n",
    "\n",
    "タプルと違いリストは内容を変更することが出来ます。"
   ]
  },
  {
   "cell_type": "code",
   "execution_count": null,
   "metadata": {},
   "outputs": [],
   "source": [
    "list_1[0] = 999\n",
    "print(list_1)"
   ]
  },
  {
   "cell_type": "markdown",
   "metadata": {},
   "source": [
    "### listの内容を編集するメソッド\n",
    "リストはミュータブルなので以下のような内容を変更するメソッドが用意されています。"
   ]
  },
  {
   "cell_type": "code",
   "execution_count": null,
   "metadata": {},
   "outputs": [],
   "source": [
    "#要素の追加\n",
    "list_1.append(0)\n",
    "print(\"リストの最後に0が追加:\",list_1)\n",
    "\n",
    "#要素の並び替え\n",
    "list_1.sort() # 昇順に並び替え\n",
    "print(\"昇順に並び替え:\",list_1)\n",
    "list_1.reverse() # 逆順に並べ直す\n",
    "print(\"並びを逆転:\",list_1)\n",
    "\n",
    "#リスト同士の結合\n",
    "list_1.extend(list_2)\n",
    "print(\"リスト同士の結合:\",list_1)\n",
    "print(\"結合相手は変化しない:\",list_2)\n",
    "\n",
    "#要素の値の検索\n",
    "print(\"'Hello'のインデックス値を検索:\",list_1.index(\"Hello\"))\n",
    "\n",
    "#要素の削除\n",
    "p = list_1.pop(6)\n",
    "print(\"インデックスで検索して削除 :\",list_1)\n",
    "print(\"取り出された値:\",p)\n",
    "list_1.remove(\"World\") \n",
    "print(\"'World'という値を検索して削除:\",list_1)\n",
    "list_1.clear() #要素の全削除\n",
    "print(\"すべて削除:\",list_1)"
   ]
  },
  {
   "cell_type": "markdown",
   "metadata": {},
   "source": [
    ".append(),.extend(),.index(),.sort()あたりはよく使うメソッドなので覚えておくと吉です。"
   ]
  },
  {
   "cell_type": "markdown",
   "metadata": {},
   "source": [
    "## dictionary について\n",
    "### dictionary は\"non-itrable\""
   ]
  },
  {
   "cell_type": "markdown",
   "metadata": {},
   "source": [
    "辞書（dictionary)型のデータ配列は {key1:value1,key2:value2,...} という形をしたデータ配列です。keyを使って値を検索する、という使い方をします。"
   ]
  },
  {
   "cell_type": "code",
   "execution_count": null,
   "metadata": {},
   "outputs": [],
   "source": [
    "dic_1 = {1:\"apple\", 0:\"lemon\", 5:\"orenge\"}\n",
    "print(dic_1[1])"
   ]
  },
  {
   "cell_type": "markdown",
   "metadata": {},
   "source": [
    "辞書には順番はありません。なので上のdic_1[1]の[1]はインデックスではなくてkeyとしての1を検索している、ということに注意してください。上のdic_1を[2]で値を取ろうとするとエラーになります。"
   ]
  },
  {
   "cell_type": "code",
   "execution_count": null,
   "metadata": {},
   "outputs": [],
   "source": [
    "print(dic_1[2])"
   ]
  },
  {
   "cell_type": "markdown",
   "metadata": {},
   "source": [
    "2番目（ゼロから数えるので実質的には3番目）には値があるように見えますが、2というkeyは存在しないのでエラーになる、というわけです。"
   ]
  },
  {
   "cell_type": "code",
   "execution_count": null,
   "metadata": {},
   "outputs": [],
   "source": [
    "dic_2 = {\"apple\":1, \"lemon\":0, \"orenge\":5}\n",
    "print(dic_2[\"orenge\"])"
   ]
  },
  {
   "cell_type": "markdown",
   "metadata": {},
   "source": [
    "keyは整数値である必要はなく、文字列でも小数でも何でもOKです。"
   ]
  },
  {
   "cell_type": "markdown",
   "metadata": {},
   "source": [
    "### dictionary は \"mutable\"\n",
    "辞書はミュータブルなので内容の変更、追加が出来ます。"
   ]
  },
  {
   "cell_type": "code",
   "execution_count": null,
   "metadata": {},
   "outputs": [],
   "source": [
    "dic_2[\"melon\"] = 2\n",
    "dic_2[\"orenge\"] = 3\n",
    "print(dic_2)"
   ]
  },
  {
   "cell_type": "markdown",
   "metadata": {},
   "source": [
    "上の一行目は\"melon\"というkeyがないので、末尾に追加、二行目では\"orenge\"という値があるので、その値を5から3に変更してます。"
   ]
  },
  {
   "cell_type": "markdown",
   "metadata": {},
   "source": [
    "### 正直言って辞書って使わなくない？\n",
    "ここまで読んできて、ズッコケた方すんません。\n",
    "正直オレ（小林）はあんまり辞書使いません。だって、リストのほうが使い勝手いいんだもん。\n",
    "だから、ここの内容は薄めです。辞書の有効な使い方があったら教えてくださいm(_ _)m"
   ]
  },
  {
   "cell_type": "markdown",
   "metadata": {},
   "source": [
    "## それぞれのデータ配列は組み合わせて使える\n",
    "要するにリストの中にリストを入れたり、タプルをキーに辞書を作ったりできるってことです。\n",
    "データ配列そのものもデータ型なので当然といえば当然ですが、この特徴のためにPythonでは非常に複雑なデータ配列を作ることが出来たりします。\n",
    "いくつか例を上げてみます。"
   ]
  },
  {
   "cell_type": "code",
   "execution_count": null,
   "metadata": {},
   "outputs": [],
   "source": [
    "#九九を返す辞書 tupleを使った辞書\n",
    "kuku = {(i,j):i*j for i in range(1,10) for j in range(1,10)} #内包表記\n",
    "print(kuku)\n",
    "print(kuku[(3,5)])\n",
    "print(kuku[6,8]) #()はなくてもタプルだよ"
   ]
  },
  {
   "cell_type": "code",
   "execution_count": null,
   "metadata": {},
   "outputs": [],
   "source": [
    "#二次元リスト\n",
    "list2d = [\n",
    "    [1,2,3,4,5,6,7,8,9],\n",
    "    [2,4,6,8,10,12,14,16,18],\n",
    "    [3,6,9,12,15,18,21,24,36],\n",
    "]\n",
    "print(list2d)\n",
    "print(list2d[2])\n",
    "print(list2d[2][5])\n",
    "\n",
    "# インデックスは0からなのは注意\n",
    "# 表を作って参照するイメージ"
   ]
  },
  {
   "cell_type": "code",
   "execution_count": null,
   "metadata": {},
   "outputs": [],
   "source": [
    "#タプル、リストを使って１行で２つの変数に代入\n",
    "(shou, amari) = [17//3, 17%3]\n",
    "print(\"17を3で割ったときの商は{0}、あまりは{1}\".format(shou, amari))\n",
    "\n",
    "##それぞれのタプルやリストは使い捨てて変数の方を使うというやり方"
   ]
  },
  {
   "cell_type": "markdown",
   "metadata": {},
   "source": [
    "他にもいろいろなテクニックがあると思います。\n",
    "ぜひとも探してみてください。\n",
    "あとでやる内包表記と組み合わせてつかうと、コーディングがスッキリ短くすることが出来ます。"
   ]
  },
  {
   "cell_type": "markdown",
   "metadata": {},
   "source": [
    "文責　小林 誠\n",
    "\n",
    "2019/06/02"
   ]
  }
 ],
 "metadata": {
  "kernelspec": {
   "display_name": "Python 3",
   "language": "python",
   "name": "python3"
  },
  "language_info": {
   "codemirror_mode": {
    "name": "ipython",
    "version": 3
   },
   "file_extension": ".py",
   "mimetype": "text/x-python",
   "name": "python",
   "nbconvert_exporter": "python",
   "pygments_lexer": "ipython3",
   "version": "3.7.3"
  }
 },
 "nbformat": 4,
 "nbformat_minor": 2
}
