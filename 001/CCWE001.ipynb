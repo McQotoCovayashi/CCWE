{
 "cells": [
  {
   "cell_type": "markdown",
   "metadata": {},
   "source": [
    "# CCWE Python講座　001　データ型について\n",
    "\n",
    "## データ型について\n",
    "\n",
    "Pythonで扱えるデータ型は主に以下の通り\n",
    "* int:整数型\n",
    "* float:浮動小数点型　ようするに小数\n",
    "* string:文字列型　” ”や’ ’で囲んだものは文字列として扱われる\n",
    "* bool:ブール型　True、Falseのこと。実態は整数の1と0\n",
    "他にも複素数型（complex)などがある。後述するlist, tapleなどもデータ型の一つではある。"
   ]
  },
  {
   "cell_type": "code",
   "execution_count": 8,
   "metadata": {},
   "outputs": [
    {
     "name": "stdout",
     "output_type": "stream",
     "text": [
      "3\n",
      "3.1\n",
      "12\n",
      "True False\n"
     ]
    }
   ],
   "source": [
    "#int\n",
    "x = 1\n",
    "y = 2\n",
    "print(x + y)"
   ]
  },
  {
   "cell_type": "code",
   "execution_count": 43,
   "metadata": {},
   "outputs": [
    {
     "name": "stdout",
     "output_type": "stream",
     "text": [
      "3.1\n"
     ]
    }
   ],
   "source": [
    "#float\n",
    "a = 1.0\n",
    "b = 2.1\n",
    "print(a + b)"
   ]
  },
  {
   "cell_type": "code",
   "execution_count": 14,
   "metadata": {},
   "outputs": [
    {
     "name": "stdout",
     "output_type": "stream",
     "text": [
      "12\n"
     ]
    }
   ],
   "source": [
    "#string\n",
    "s = \"1\"\n",
    "t = '2'\n",
    "print(s + t)"
   ]
  },
  {
   "cell_type": "code",
   "execution_count": 19,
   "metadata": {},
   "outputs": [
    {
     "name": "stdout",
     "output_type": "stream",
     "text": [
      "True False\n"
     ]
    }
   ],
   "source": [
    "#bool\n",
    "T = True\n",
    "F = False\n",
    "print(T, F)"
   ]
  },
  {
   "cell_type": "markdown",
   "metadata": {},
   "source": [
    "## Data typeの変換\n",
    "\n",
    "type()を使ってデータ型が何か確認することができる。\n",
    "\n",
    "また各データ型は組み込み関数を使って変換できる\n",
    "* str()\n",
    "* int()\n",
    "* float()\n",
    "* bool()"
   ]
  },
  {
   "cell_type": "code",
   "execution_count": 42,
   "metadata": {},
   "outputs": [
    {
     "name": "stdout",
     "output_type": "stream",
     "text": [
      "1 0 0.0 False\n"
     ]
    }
   ],
   "source": [
    "#( )のなかに適当に入力して変換できるか試してみよう\n",
    "h1 = str()\n",
    "h2 = int()\n",
    "h3 = float()\n",
    "h4 = bool()\n",
    "print(h1,h2,h3,h4)"
   ]
  },
  {
   "cell_type": "markdown",
   "metadata": {},
   "source": [
    "## 数値型(int, float, bool)の演算子\n",
    "* \\+ :加算\n",
    "* \\- :減算\n",
    "* \\* :乗算\n",
    "* \\** :累乗\n",
    "* \\/ :除算\n",
    "* \\// :除算した商\n",
    "* \\% :除算した余り"
   ]
  }
 ],
 "metadata": {
  "kernelspec": {
   "display_name": "Python 3",
   "language": "python",
   "name": "python3"
  },
  "language_info": {
   "codemirror_mode": {
    "name": "ipython",
    "version": 3
   },
   "file_extension": ".py",
   "mimetype": "text/x-python",
   "name": "python",
   "nbconvert_exporter": "python",
   "pygments_lexer": "ipython3",
   "version": "3.7.3"
  }
 },
 "nbformat": 4,
 "nbformat_minor": 2
}
